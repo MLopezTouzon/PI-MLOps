{
 "cells": [
  {
   "cell_type": "code",
   "execution_count": 4,
   "metadata": {},
   "outputs": [],
   "source": [
    "import pandas as pd\n",
    "\n",
    "# Carga los DataFrame desde el archivo CSV\n",
    "data_reviews = pd.read_csv('G:\\\\PI MLOps - STEAM\\\\australian_user_reviews_ok.csv')\n",
    "data_items = pd.read_csv('G:\\\\PI MLOps - STEAM\\\\data_users_items_ok.csv')\n",
    "data_steam = pd.read_csv('G:\\\\PI MLOps - STEAM\\\\steam_games_ok.csv')"
   ]
  },
  {
   "cell_type": "code",
   "execution_count": 2,
   "metadata": {},
   "outputs": [
    {
     "data": {
      "text/html": [
       "<div>\n",
       "<style scoped>\n",
       "    .dataframe tbody tr th:only-of-type {\n",
       "        vertical-align: middle;\n",
       "    }\n",
       "\n",
       "    .dataframe tbody tr th {\n",
       "        vertical-align: top;\n",
       "    }\n",
       "\n",
       "    .dataframe thead th {\n",
       "        text-align: right;\n",
       "    }\n",
       "</style>\n",
       "<table border=\"1\" class=\"dataframe\">\n",
       "  <thead>\n",
       "    <tr style=\"text-align: right;\">\n",
       "      <th></th>\n",
       "      <th>user_id</th>\n",
       "      <th>sentiment_analysis</th>\n",
       "      <th>item_id</th>\n",
       "      <th>recommend</th>\n",
       "      <th>año_posted</th>\n",
       "    </tr>\n",
       "  </thead>\n",
       "  <tbody>\n",
       "    <tr>\n",
       "      <th>0</th>\n",
       "      <td>76561197970982479</td>\n",
       "      <td>2</td>\n",
       "      <td>1250</td>\n",
       "      <td>1</td>\n",
       "      <td>2011</td>\n",
       "    </tr>\n",
       "    <tr>\n",
       "      <th>1</th>\n",
       "      <td>js41637</td>\n",
       "      <td>2</td>\n",
       "      <td>251610</td>\n",
       "      <td>1</td>\n",
       "      <td>2014</td>\n",
       "    </tr>\n",
       "    <tr>\n",
       "      <th>2</th>\n",
       "      <td>evcentric</td>\n",
       "      <td>2</td>\n",
       "      <td>248820</td>\n",
       "      <td>1</td>\n",
       "      <td>Sin dato</td>\n",
       "    </tr>\n",
       "    <tr>\n",
       "      <th>3</th>\n",
       "      <td>doctr</td>\n",
       "      <td>2</td>\n",
       "      <td>250320</td>\n",
       "      <td>1</td>\n",
       "      <td>2013</td>\n",
       "    </tr>\n",
       "    <tr>\n",
       "      <th>4</th>\n",
       "      <td>maplemage</td>\n",
       "      <td>1</td>\n",
       "      <td>211420</td>\n",
       "      <td>1</td>\n",
       "      <td>2014</td>\n",
       "    </tr>\n",
       "  </tbody>\n",
       "</table>\n",
       "</div>"
      ],
      "text/plain": [
       "             user_id  sentiment_analysis  item_id  recommend año_posted\n",
       "0  76561197970982479                   2     1250          1       2011\n",
       "1            js41637                   2   251610          1       2014\n",
       "2          evcentric                   2   248820          1   Sin dato\n",
       "3              doctr                   2   250320          1       2013\n",
       "4          maplemage                   1   211420          1       2014"
      ]
     },
     "execution_count": 2,
     "metadata": {},
     "output_type": "execute_result"
    }
   ],
   "source": [
    "data_reviews.head()"
   ]
  },
  {
   "cell_type": "code",
   "execution_count": 33,
   "metadata": {},
   "outputs": [
    {
     "data": {
      "text/html": [
       "<div>\n",
       "<style scoped>\n",
       "    .dataframe tbody tr th:only-of-type {\n",
       "        vertical-align: middle;\n",
       "    }\n",
       "\n",
       "    .dataframe tbody tr th {\n",
       "        vertical-align: top;\n",
       "    }\n",
       "\n",
       "    .dataframe thead th {\n",
       "        text-align: right;\n",
       "    }\n",
       "</style>\n",
       "<table border=\"1\" class=\"dataframe\">\n",
       "  <thead>\n",
       "    <tr style=\"text-align: right;\">\n",
       "      <th></th>\n",
       "      <th>user_id</th>\n",
       "      <th>item_id</th>\n",
       "      <th>item_name</th>\n",
       "      <th>playtime_forever</th>\n",
       "    </tr>\n",
       "  </thead>\n",
       "  <tbody>\n",
       "    <tr>\n",
       "      <th>0</th>\n",
       "      <td>76561197970982479</td>\n",
       "      <td>10</td>\n",
       "      <td>Counter-Strike</td>\n",
       "      <td>6</td>\n",
       "    </tr>\n",
       "    <tr>\n",
       "      <th>1</th>\n",
       "      <td>76561197970982479</td>\n",
       "      <td>20</td>\n",
       "      <td>Team Fortress Classic</td>\n",
       "      <td>0</td>\n",
       "    </tr>\n",
       "    <tr>\n",
       "      <th>2</th>\n",
       "      <td>76561197970982479</td>\n",
       "      <td>30</td>\n",
       "      <td>Day of Defeat</td>\n",
       "      <td>7</td>\n",
       "    </tr>\n",
       "    <tr>\n",
       "      <th>3</th>\n",
       "      <td>76561197970982479</td>\n",
       "      <td>40</td>\n",
       "      <td>Deathmatch Classic</td>\n",
       "      <td>0</td>\n",
       "    </tr>\n",
       "    <tr>\n",
       "      <th>4</th>\n",
       "      <td>76561197970982479</td>\n",
       "      <td>50</td>\n",
       "      <td>Half-Life: Opposing Force</td>\n",
       "      <td>0</td>\n",
       "    </tr>\n",
       "  </tbody>\n",
       "</table>\n",
       "</div>"
      ],
      "text/plain": [
       "             user_id  item_id                  item_name  playtime_forever\n",
       "0  76561197970982479       10             Counter-Strike                 6\n",
       "1  76561197970982479       20      Team Fortress Classic                 0\n",
       "2  76561197970982479       30              Day of Defeat                 7\n",
       "3  76561197970982479       40         Deathmatch Classic                 0\n",
       "4  76561197970982479       50  Half-Life: Opposing Force                 0"
      ]
     },
     "execution_count": 33,
     "metadata": {},
     "output_type": "execute_result"
    }
   ],
   "source": [
    "data_items.head()"
   ]
  },
  {
   "cell_type": "code",
   "execution_count": 19,
   "metadata": {},
   "outputs": [
    {
     "data": {
      "text/html": [
       "<div>\n",
       "<style scoped>\n",
       "    .dataframe tbody tr th:only-of-type {\n",
       "        vertical-align: middle;\n",
       "    }\n",
       "\n",
       "    .dataframe tbody tr th {\n",
       "        vertical-align: top;\n",
       "    }\n",
       "\n",
       "    .dataframe thead th {\n",
       "        text-align: right;\n",
       "    }\n",
       "</style>\n",
       "<table border=\"1\" class=\"dataframe\">\n",
       "  <thead>\n",
       "    <tr style=\"text-align: right;\">\n",
       "      <th></th>\n",
       "      <th>genres</th>\n",
       "      <th>app_name</th>\n",
       "      <th>release_date</th>\n",
       "      <th>tags</th>\n",
       "      <th>id</th>\n",
       "      <th>playtime_forever</th>\n",
       "    </tr>\n",
       "  </thead>\n",
       "  <tbody>\n",
       "    <tr>\n",
       "      <th>0</th>\n",
       "      <td>['Action', 'Casual', 'Indie', 'Simulation', 'S...</td>\n",
       "      <td>Lost Summoner Kitty</td>\n",
       "      <td>2018</td>\n",
       "      <td>['Strategy', 'Action', 'Indie', 'Casual', 'Sim...</td>\n",
       "      <td>761140</td>\n",
       "      <td>0</td>\n",
       "    </tr>\n",
       "    <tr>\n",
       "      <th>1</th>\n",
       "      <td>['Free to Play', 'Indie', 'RPG', 'Strategy']</td>\n",
       "      <td>Ironbound</td>\n",
       "      <td>2018</td>\n",
       "      <td>['Free to Play', 'Strategy', 'Indie', 'RPG', '...</td>\n",
       "      <td>643980</td>\n",
       "      <td>0</td>\n",
       "    </tr>\n",
       "    <tr>\n",
       "      <th>2</th>\n",
       "      <td>['Casual', 'Free to Play', 'Indie', 'Simulatio...</td>\n",
       "      <td>Real Pool 3D - Poolians</td>\n",
       "      <td>2017</td>\n",
       "      <td>['Free to Play', 'Simulation', 'Sports', 'Casu...</td>\n",
       "      <td>670290</td>\n",
       "      <td>0</td>\n",
       "    </tr>\n",
       "    <tr>\n",
       "      <th>3</th>\n",
       "      <td>['Action', 'Adventure', 'Casual']</td>\n",
       "      <td>弹炸人2222</td>\n",
       "      <td>2017</td>\n",
       "      <td>['Action', 'Adventure', 'Casual']</td>\n",
       "      <td>767400</td>\n",
       "      <td>0</td>\n",
       "    </tr>\n",
       "    <tr>\n",
       "      <th>4</th>\n",
       "      <td>['Action', 'Adventure', 'Simulation']</td>\n",
       "      <td>Battle Royale Trainer</td>\n",
       "      <td>2018</td>\n",
       "      <td>['Action', 'Adventure', 'Simulation', 'FPS', '...</td>\n",
       "      <td>772540</td>\n",
       "      <td>0</td>\n",
       "    </tr>\n",
       "  </tbody>\n",
       "</table>\n",
       "</div>"
      ],
      "text/plain": [
       "                                              genres                 app_name  \\\n",
       "0  ['Action', 'Casual', 'Indie', 'Simulation', 'S...      Lost Summoner Kitty   \n",
       "1       ['Free to Play', 'Indie', 'RPG', 'Strategy']                Ironbound   \n",
       "2  ['Casual', 'Free to Play', 'Indie', 'Simulatio...  Real Pool 3D - Poolians   \n",
       "3                  ['Action', 'Adventure', 'Casual']                  弹炸人2222   \n",
       "4              ['Action', 'Adventure', 'Simulation']    Battle Royale Trainer   \n",
       "\n",
       "   release_date                                               tags      id  \\\n",
       "0          2018  ['Strategy', 'Action', 'Indie', 'Casual', 'Sim...  761140   \n",
       "1          2018  ['Free to Play', 'Strategy', 'Indie', 'RPG', '...  643980   \n",
       "2          2017  ['Free to Play', 'Simulation', 'Sports', 'Casu...  670290   \n",
       "3          2017                  ['Action', 'Adventure', 'Casual']  767400   \n",
       "4          2018  ['Action', 'Adventure', 'Simulation', 'FPS', '...  772540   \n",
       "\n",
       "   playtime_forever  \n",
       "0                 0  \n",
       "1                 0  \n",
       "2                 0  \n",
       "3                 0  \n",
       "4                 0  "
      ]
     },
     "execution_count": 19,
     "metadata": {},
     "output_type": "execute_result"
    }
   ],
   "source": [
    "data_steam.head()"
   ]
  },
  {
   "cell_type": "markdown",
   "metadata": {},
   "source": [
    "def PlayTimeGenre( genero : str ): Debe devolver año con mas horas jugadas para dicho género.\n",
    "Ejemplo de retorno: {\"Año de lanzamiento con más horas jugadas para Género X\" : 2013}"
   ]
  },
  {
   "cell_type": "code",
   "execution_count": 27,
   "metadata": {},
   "outputs": [],
   "source": [
    "def PlayTimeGenre(genero: str):    \n",
    "        \n",
    "    # Filtrar por el género específico\n",
    "    df_genero = data_steam[data_steam['genres'].apply(lambda x: genero in x)]\n",
    "\n",
    "    if df_genero.empty:\n",
    "        # Devolver un mensaje si no hay juegos en el género especificado\n",
    "        return {\"Mensaje\": \"No hay juegos en el género especificado\"}\n",
    "    \n",
    "    # Encontrar el juego con más horas jugadas\n",
    "    juego_mas_horas = df_genero.loc[df_genero['playtime_forever'].idxmax()]\n",
    "        # Obtener el año de lanzamiento del juego con más horas jugadas\n",
    "    año_mas_horas = juego_mas_horas['release_date']\n",
    "\n",
    "    # Crear el diccionario de retorno\n",
    "    resultado = {\"Año de lanzamiento con más horas jugadas para Género \" + genero: año_mas_horas}\n",
    "\n",
    "    return resultado"
   ]
  },
  {
   "cell_type": "code",
   "execution_count": 30,
   "metadata": {},
   "outputs": [
    {
     "name": "stdout",
     "output_type": "stream",
     "text": [
      "{'Año de lanzamiento con más horas jugadas para Género Adventure': 2017}\n"
     ]
    }
   ],
   "source": [
    "resultado_ejemplo = PlayTimeGenre('Adventure')\n",
    "print(resultado_ejemplo)"
   ]
  },
  {
   "cell_type": "markdown",
   "metadata": {},
   "source": [
    "def UserForGenre( genero : str ): Debe devolver el usuario que acumula más horas jugadas para el género dado y una lista de la acumulación de horas jugadas por año.\n",
    "Ejemplo de retorno: {\"Usuario con más horas jugadas para Género X\" : us213ndjss09sdf, \"Horas jugadas\":[{Año: 2013, Horas: 203}, {Año: 2012, Horas: 100}, {Año: 2011, Horas: 23}]}"
   ]
  },
  {
   "cell_type": "code",
   "execution_count": 41,
   "metadata": {},
   "outputs": [],
   "source": [
    "def UserForGenre(genero: str):\n",
    "    \n",
    "    # Filtrar por el género específico\n",
    "    df_genero = data_steam[data_steam['genres'].apply(lambda x: genero in x)]\n",
    "    df_usuario = data_items[data_items['item_name'].apply(lambda x: genero in x)]\n",
    "    \n",
    "    if df_genero.empty:\n",
    "        # Devolver un mensaje si no hay juegos en el género especificado\n",
    "        return {\"Mensaje\": \"No hay juegos en el género especificado\"}\n",
    "    \n",
    "    # Encontrar el usuario con más horas jugadas\n",
    "    usuario_mas_horas = df_usuario.loc[df_usuario['playtime_forever'].idxmax()]['user_id']\n",
    "    # Obtener el total de horas jugadas por el usuario\n",
    "    horas_mas_usuario = df_usuario['playtime_forever'].max()\n",
    "    # Crear una lista de acumulación de horas jugadas por año\n",
    "    acumulacion_horas_por_año = df_genero.groupby('release_date')['playtime_forever'].sum().reset_index()\n",
    "    lista_acumulacion = [{\"Año\": int(año), \"Horas\": horas} for año, horas in zip(acumulacion_horas_por_año['release_date'], acumulacion_horas_por_año['playtime_forever'])]\n",
    "    # Crear el diccionario de retorno\n",
    "    resultado = {\"Usuario con más horas jugadas para Género \" + genero: usuario_mas_horas,\n",
    "                 \"Total de horas jugadas por el usuario\": horas_mas_usuario,\n",
    "                 \"Acumulación de horas jugadas por año\": lista_acumulacion}\n",
    "    \n",
    "    return resultado"
   ]
  },
  {
   "cell_type": "code",
   "execution_count": 44,
   "metadata": {},
   "outputs": [
    {
     "name": "stdout",
     "output_type": "stream",
     "text": [
      "{'Usuario con más horas jugadas para Género Action': 'Lickidactyl', 'Total de horas jugadas por el usuario': 109916, 'Acumulación de horas jugadas por año': [{'Año': 0, 'Horas': 10605}, {'Año': 1983, 'Horas': 55}, {'Año': 1984, 'Horas': 39}, {'Año': 1988, 'Horas': 305}, {'Año': 1989, 'Horas': 4}, {'Año': 1990, 'Horas': 81}, {'Año': 1991, 'Horas': 99}, {'Año': 1992, 'Horas': 20}, {'Año': 1993, 'Horas': 677}, {'Año': 1994, 'Horas': 2082}, {'Año': 1995, 'Horas': 3446}, {'Año': 1996, 'Horas': 674}, {'Año': 1997, 'Horas': 2696}, {'Año': 1998, 'Horas': 19293}, {'Año': 1999, 'Horas': 4583}, {'Año': 2000, 'Horas': 15078}, {'Año': 2001, 'Horas': 7005}, {'Año': 2002, 'Horas': 3999}, {'Año': 2003, 'Horas': 20407}, {'Año': 2004, 'Horas': 17852}, {'Año': 2005, 'Horas': 13876}, {'Año': 2006, 'Horas': 15442}, {'Año': 2007, 'Horas': 46325}, {'Año': 2008, 'Horas': 19397}, {'Año': 2009, 'Horas': 47060}, {'Año': 2010, 'Horas': 113142}, {'Año': 2011, 'Horas': 219519}, {'Año': 2012, 'Horas': 210911}, {'Año': 2013, 'Horas': 163576}, {'Año': 2014, 'Horas': 187679}, {'Año': 2015, 'Horas': 311417}, {'Año': 2016, 'Horas': 313239}, {'Año': 2017, 'Horas': 171456}, {'Año': 2018, 'Horas': 21}, {'Año': 2019, 'Horas': 0}]}\n"
     ]
    }
   ],
   "source": [
    "resultado_ejemplo = UserForGenre('Action')\n",
    "print(resultado_ejemplo)"
   ]
  },
  {
   "cell_type": "markdown",
   "metadata": {},
   "source": [
    "def UsersRecommend( año : int ): Devuelve el top 3 de juegos MÁS recomendados por usuarios para el año dado. (reviews.recommend = True y comentarios positivos/neutrales)\n",
    "Ejemplo de retorno: [{\"Puesto 1\" : X}, {\"Puesto 2\" : Y},{\"Puesto 3\" : Z}]"
   ]
  },
  {
   "cell_type": "code",
   "execution_count": 11,
   "metadata": {},
   "outputs": [],
   "source": [
    "def UsersRecommend(año: int):\n",
    "\n",
    "    # Obtener una muestra aleatoria del DataFrame\n",
    "    df_sample = data_reviews.sample(frac=0.15, random_state=42)\n",
    "    # Fusionar los DataFrames para obtener la información relevante\n",
    "    df_merged = pd.merge(df_sample[['item_id', 'recommend', 'sentiment_analysis', 'año_posted']],\n",
    "                    data_items[['item_id', 'item_name']],\n",
    "                    on='item_id',\n",
    "                    how='inner')\n",
    "    # Filtrar por el año especificado\n",
    "    df_año = df_merged[df_merged['año_posted'] == str(año)]\n",
    "\n",
    "    if df_año.empty:\n",
    "        # Devolver un mensaje si no hay datos para el año especificado\n",
    "        return {\"Mensaje\": \"No hay datos para el año especificado\"}\n",
    "    \n",
    "    # Filtrar por recomendaciones positivas/neutrales\n",
    "    df_recomendados = df_año[(df_año['recommend'] == True) & (df_año['sentiment_analysis'].isin([1, 2]))]\n",
    "\n",
    "    if df_recomendados.empty:\n",
    "        # Devolver un mensaje si no hay juegos recomendados para el año especificado\n",
    "        return {\"Mensaje\": \"No hay juegos recomendados para el año especificado\"}\n",
    "    # Contar las recomendaciones por juego\n",
    "    conteo_recomendaciones = df_recomendados['item_name'].value_counts().reset_index()\n",
    "    conteo_recomendaciones.columns = ['Juego', 'Recomendaciones']\n",
    "    # Obtener el top 3 de juegos recomendados\n",
    "    top3_recomendados = conteo_recomendaciones.head(3)\n",
    "    # Crear la lista de retorno\n",
    "    resultado = [{\"Puesto \" + str(i + 1): {\"Juego\": juego, \"Recomendaciones\": recomendaciones}} for i, (juego, recomendaciones) in enumerate(top3_recomendados.values)]\n",
    "\n",
    "    return resultado"
   ]
  },
  {
   "cell_type": "code",
   "execution_count": 13,
   "metadata": {},
   "outputs": [
    {
     "name": "stdout",
     "output_type": "stream",
     "text": [
      "[{'Puesto 1': {'Juego': \"Garry's Mod\", 'Recomendaciones': 985527}}, {'Puesto 2': {'Juego': 'Counter-Strike: Global Offensive', 'Recomendaciones': 563316}}, {'Puesto 3': {'Juego': 'Left 4 Dead 2', 'Recomendaciones': 549915}}]\n"
     ]
    }
   ],
   "source": [
    "resultado_ejemplo = UsersRecommend(2013)\n",
    "print(resultado_ejemplo)"
   ]
  },
  {
   "cell_type": "markdown",
   "metadata": {},
   "source": [
    "def UsersNotRecommend( año : int ): Devuelve el top 3 de juegos MENOS recomendados por usuarios para el año dado. (reviews.recommend = False y comentarios negativos)\n",
    "Ejemplo de retorno: [{\"Puesto 1\" : X}, {\"Puesto 2\" : Y},{\"Puesto 3\" : Z}]"
   ]
  },
  {
   "cell_type": "code",
   "execution_count": 15,
   "metadata": {},
   "outputs": [],
   "source": [
    "def UsersNotRecommend(año: int):\n",
    "\n",
    "    # Obtener una muestra aleatoria del DataFrame\n",
    "    df_sample = data_reviews.sample(frac=0.15, random_state=42)\n",
    "    # Fusionar los DataFrames para obtener la información relevante\n",
    "    df_merged = pd.merge(df_sample[['item_id', 'recommend', 'sentiment_analysis', 'año_posted']],\n",
    "                    data_items[['item_id', 'item_name']],\n",
    "                    on='item_id',\n",
    "                    how='inner')\n",
    "    # Filtrar por el año especificado\n",
    "    df_año = df_merged[df_merged['año_posted'] == str(año)]\n",
    "\n",
    "    if df_año.empty:\n",
    "        # Devolver un mensaje si no hay datos para el año especificado\n",
    "        return {\"Mensaje\": \"No hay datos para el año especificado\"}\n",
    "    \n",
    "    # Filtrar por recomendaciones negativas\n",
    "    df_no_recomendados = df_año[(df_año['recommend'] == False) & (df_año['sentiment_analysis'].isin([0]))]\n",
    "\n",
    "    if df_no_recomendados.empty:\n",
    "        # Devolver un mensaje si no hay juegos no recomendados para el año especificado\n",
    "        return {\"Mensaje\": \"No hay juegos no recomendados para el año especificado\"}\n",
    "    \n",
    "    # Contar las no recomendaciones por juego\n",
    "    conteo_no_recomendaciones = df_no_recomendados['item_name'].value_counts().reset_index()\n",
    "    conteo_no_recomendaciones.columns = ['Juego', 'Recomendaciones']\n",
    "    # Obtener el top 3 de juegos recomendados\n",
    "    top3_no_recomendados = conteo_no_recomendaciones.head(3)\n",
    "    # Crear la lista de retorno\n",
    "    resultado = [{\"Puesto \" + str(i + 1): {\"Juego\": juego, \"No lo recomiendan \": no_recomendaciones}} for i, (juego, no_recomendaciones) in enumerate(top3_no_recomendados.values)]\n",
    "\n",
    "    return resultado"
   ]
  },
  {
   "cell_type": "code",
   "execution_count": 16,
   "metadata": {},
   "outputs": [
    {
     "name": "stdout",
     "output_type": "stream",
     "text": [
      "[{'Puesto 1': {'Juego': 'PAYDAY 2', 'No lo recomiendan ': 93800}}, {'Puesto 2': {'Juego': 'Counter-Strike: Global Offensive', 'No lo recomiendan ': 86664}}, {'Puesto 3': {'Juego': \"Garry's Mod\", 'No lo recomiendan ': 85698}}]\n"
     ]
    }
   ],
   "source": [
    "resultado_ejemplo = UsersNotRecommend(2015)\n",
    "print(resultado_ejemplo)"
   ]
  },
  {
   "cell_type": "markdown",
   "metadata": {},
   "source": [
    "def sentiment_analysis( año : int ): Según el año de lanzamiento, se devuelve una lista con la cantidad de registros de reseñas de usuarios que se encuentren categorizados con un análisis de sentimiento.\n",
    "Ejemplo de retorno: {Negative = 182, Neutral = 120, Positive = 278}"
   ]
  }
 ],
 "metadata": {
  "kernelspec": {
   "display_name": "Python 3",
   "language": "python",
   "name": "python3"
  },
  "language_info": {
   "codemirror_mode": {
    "name": "ipython",
    "version": 3
   },
   "file_extension": ".py",
   "mimetype": "text/x-python",
   "name": "python",
   "nbconvert_exporter": "python",
   "pygments_lexer": "ipython3",
   "version": "3.10.7"
  }
 },
 "nbformat": 4,
 "nbformat_minor": 2
}
